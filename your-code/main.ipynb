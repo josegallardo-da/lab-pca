{
 "cells": [
  {
   "cell_type": "markdown",
   "metadata": {},
   "source": [
    "# Before your start:\n",
    "- Read the README.md file\n",
    "- Comment as much as you can and use the resources (README.md file)\n",
    "- Happy learning!"
   ]
  },
  {
   "cell_type": "code",
   "execution_count": 1,
   "metadata": {},
   "outputs": [],
   "source": [
    "# Run this code:\n",
    "\n",
    "%matplotlib inline\n",
    "\n",
    "import matplotlib.pyplot as plt"
   ]
  },
  {
   "cell_type": "code",
   "execution_count": 2,
   "metadata": {},
   "outputs": [],
   "source": [
    "# Import numpy and pandas:\n",
    "\n",
    "import pandas as pd\n",
    "import numpy as np\n"
   ]
  },
  {
   "cell_type": "markdown",
   "metadata": {},
   "source": [
    "# Challenge 1 - Reading and Standardizing the Data\n",
    "\n",
    "In this challenge we will work with image data and reduce the dimensions of the data to create a 2 dimensional plot. While we have not worked much with image data before, it can be represented as a numpy array where each pixel is assigned a numeric value. In this lesson, we will look at a dataset of cats and a dataset of dogs and see whether reducing them to two dimensions allows us to see if the data is separable. We will start by loading and processing the data. Run the cell below to load the two csv files and convert them into numpy arrays."
   ]
  },
  {
   "cell_type": "code",
   "execution_count": 3,
   "metadata": {},
   "outputs": [],
   "source": [
    "# Run this code\n",
    "\n",
    "cats = np.array(pd.read_csv(\"https://raw.githubusercontent.com/bioramble/pca/master/cat.csv\", header=None))\n",
    "dogs = np.array(pd.read_csv(\"https://raw.githubusercontent.com/bioramble/pca/master/dog.csv\", header=None))\n"
   ]
  },
  {
   "cell_type": "markdown",
   "metadata": {},
   "source": [
    "Next, we'll examine the shape of both the cats and the dogs arrays. Print out both shapes below."
   ]
  },
  {
   "cell_type": "code",
   "execution_count": 4,
   "metadata": {},
   "outputs": [
    {
     "output_type": "stream",
     "name": "stdout",
     "text": [
      "(4096, 80)\n(4096, 80)\n"
     ]
    }
   ],
   "source": [
    "# Your code here:\n",
    "\n",
    "print(cats.shape)\n",
    "print(dogs.shape)\n"
   ]
  },
  {
   "cell_type": "markdown",
   "metadata": {},
   "source": [
    "What this means is that both arrays contain 80 images each (the number of columns). Each image is comprised of 64x64 pixels (so a total of 4096 pixels per image). The images have been flattened such that all 4096 are in a single row.\n",
    "\n",
    "Print out column 0 of the cats array to see what the pixels values look like."
   ]
  },
  {
   "cell_type": "code",
   "execution_count": 5,
   "metadata": {},
   "outputs": [
    {
     "output_type": "execute_result",
     "data": {
      "text/plain": [
       "array([ 64,  23, 250, 137,  55, 173,  18, 134,  19,  47, 109, 164,  41,\n",
       "        78, 108, 108, 247, 105, 158,  54, 103,   4,  23, 102, 239,  72,\n",
       "        42,  21, 168, 109, 112, 177,  22, 233,  15, 236, 250, 137,  32,\n",
       "         5, 178, 109,  24, 107,  53, 241, 226, 143,   5, 136,  98, 100,\n",
       "        89,  66, 228,  92, 255,  88, 230,  56, 160,  69,   6,  24, 195,\n",
       "       183, 239,  35, 154, 154, 122,  18,  87, 106, 174,  69,  28,  60,\n",
       "       223, 101], dtype=int64)"
      ]
     },
     "metadata": {},
     "execution_count": 5
    }
   ],
   "source": [
    "# Your code here:\n",
    "\n",
    "cats[0]\n"
   ]
  },
  {
   "cell_type": "markdown",
   "metadata": {},
   "source": [
    "Using `matplotlib` we can plot a single cat or a single dog. We do this by reshaping the vector back to a 64x64 image and then using the `imshow` function.\n",
    "\n",
    "Run the code below to look at the first dog and the first cat."
   ]
  },
  {
   "cell_type": "code",
   "execution_count": 6,
   "metadata": {},
   "outputs": [
    {
     "output_type": "execute_result",
     "data": {
      "text/plain": [
       "<matplotlib.image.AxesImage at 0x1c2110b64c0>"
      ]
     },
     "metadata": {},
     "execution_count": 6
    },
    {
     "output_type": "display_data",
     "data": {
      "text/plain": "<Figure size 432x288 with 1 Axes>",
      "image/svg+xml": "<?xml version=\"1.0\" encoding=\"utf-8\" standalone=\"no\"?>\r\n<!DOCTYPE svg PUBLIC \"-//W3C//DTD SVG 1.1//EN\"\r\n  \"http://www.w3.org/Graphics/SVG/1.1/DTD/svg11.dtd\">\r\n<!-- Created with matplotlib (https://matplotlib.org/) -->\r\n<svg height=\"250.618594pt\" version=\"1.1\" viewBox=\"0 0 251.565 250.618594\" width=\"251.565pt\" xmlns=\"http://www.w3.org/2000/svg\" xmlns:xlink=\"http://www.w3.org/1999/xlink\">\r\n <defs>\r\n  <style type=\"text/css\">\r\n*{stroke-linecap:butt;stroke-linejoin:round;}\r\n  </style>\r\n </defs>\r\n <g id=\"figure_1\">\r\n  <g id=\"patch_1\">\r\n   <path d=\"M 0 250.618594 \r\nL 251.565 250.618594 \r\nL 251.565 0 \r\nL 0 0 \r\nz\r\n\" style=\"fill:none;\"/>\r\n  </g>\r\n  <g id=\"axes_1\">\r\n   <g id=\"patch_2\">\r\n    <path d=\"M 26.925 226.740469 \r\nL 244.365 226.740469 \r\nL 244.365 9.300469 \r\nL 26.925 9.300469 \r\nz\r\n\" style=\"fill:#ffffff;\"/>\r\n   </g>\r\n   <g clip-path=\"url(#p4e3e702702)\">\r\n    <image height=\"218\" id=\"imagea4ef590709\" transform=\"scale(1 -1)translate(0 -218)\" width=\"218\" x=\"26.925\" xlink:href=\"data:image/png;base64,\r\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\" y=\"-8.740469\"/>\r\n   </g>\r\n   <g id=\"matplotlib.axis_1\">\r\n    <g id=\"xtick_1\">\r\n     <g id=\"line2d_1\">\r\n      <defs>\r\n       <path d=\"M 0 0 \r\nL 0 3.5 \r\n\" id=\"m52d2f8fbea\" style=\"stroke:#000000;stroke-width:0.8;\"/>\r\n      </defs>\r\n      <g>\r\n       <use style=\"stroke:#000000;stroke-width:0.8;\" x=\"28.62375\" xlink:href=\"#m52d2f8fbea\" y=\"226.740469\"/>\r\n      </g>\r\n     </g>\r\n     <g id=\"text_1\">\r\n      <!-- 0 -->\r\n      <defs>\r\n       <path d=\"M 31.78125 66.40625 \r\nQ 24.171875 66.40625 20.328125 58.90625 \r\nQ 16.5 51.421875 16.5 36.375 \r\nQ 16.5 21.390625 20.328125 13.890625 \r\nQ 24.171875 6.390625 31.78125 6.390625 \r\nQ 39.453125 6.390625 43.28125 13.890625 \r\nQ 47.125 21.390625 47.125 36.375 \r\nQ 47.125 51.421875 43.28125 58.90625 \r\nQ 39.453125 66.40625 31.78125 66.40625 \r\nz\r\nM 31.78125 74.21875 \r\nQ 44.046875 74.21875 50.515625 64.515625 \r\nQ 56.984375 54.828125 56.984375 36.375 \r\nQ 56.984375 17.96875 50.515625 8.265625 \r\nQ 44.046875 -1.421875 31.78125 -1.421875 \r\nQ 19.53125 -1.421875 13.0625 8.265625 \r\nQ 6.59375 17.96875 6.59375 36.375 \r\nQ 6.59375 54.828125 13.0625 64.515625 \r\nQ 19.53125 74.21875 31.78125 74.21875 \r\nz\r\n\" id=\"DejaVuSans-48\"/>\r\n      </defs>\r\n      <g transform=\"translate(25.4425 241.338906)scale(0.1 -0.1)\">\r\n       <use xlink:href=\"#DejaVuSans-48\"/>\r\n      </g>\r\n     </g>\r\n    </g>\r\n    <g id=\"xtick_2\">\r\n     <g id=\"line2d_2\">\r\n      <g>\r\n       <use style=\"stroke:#000000;stroke-width:0.8;\" x=\"62.59875\" xlink:href=\"#m52d2f8fbea\" y=\"226.740469\"/>\r\n      </g>\r\n     </g>\r\n     <g id=\"text_2\">\r\n      <!-- 10 -->\r\n      <defs>\r\n       <path d=\"M 12.40625 8.296875 \r\nL 28.515625 8.296875 \r\nL 28.515625 63.921875 \r\nL 10.984375 60.40625 \r\nL 10.984375 69.390625 \r\nL 28.421875 72.90625 \r\nL 38.28125 72.90625 \r\nL 38.28125 8.296875 \r\nL 54.390625 8.296875 \r\nL 54.390625 0 \r\nL 12.40625 0 \r\nz\r\n\" id=\"DejaVuSans-49\"/>\r\n      </defs>\r\n      <g transform=\"translate(56.23625 241.338906)scale(0.1 -0.1)\">\r\n       <use xlink:href=\"#DejaVuSans-49\"/>\r\n       <use x=\"63.623047\" xlink:href=\"#DejaVuSans-48\"/>\r\n      </g>\r\n     </g>\r\n    </g>\r\n    <g id=\"xtick_3\">\r\n     <g id=\"line2d_3\">\r\n      <g>\r\n       <use style=\"stroke:#000000;stroke-width:0.8;\" x=\"96.57375\" xlink:href=\"#m52d2f8fbea\" y=\"226.740469\"/>\r\n      </g>\r\n     </g>\r\n     <g id=\"text_3\">\r\n      <!-- 20 -->\r\n      <defs>\r\n       <path d=\"M 19.1875 8.296875 \r\nL 53.609375 8.296875 \r\nL 53.609375 0 \r\nL 7.328125 0 \r\nL 7.328125 8.296875 \r\nQ 12.9375 14.109375 22.625 23.890625 \r\nQ 32.328125 33.6875 34.8125 36.53125 \r\nQ 39.546875 41.84375 41.421875 45.53125 \r\nQ 43.3125 49.21875 43.3125 52.78125 \r\nQ 43.3125 58.59375 39.234375 62.25 \r\nQ 35.15625 65.921875 28.609375 65.921875 \r\nQ 23.96875 65.921875 18.8125 64.3125 \r\nQ 13.671875 62.703125 7.8125 59.421875 \r\nL 7.8125 69.390625 \r\nQ 13.765625 71.78125 18.9375 73 \r\nQ 24.125 74.21875 28.421875 74.21875 \r\nQ 39.75 74.21875 46.484375 68.546875 \r\nQ 53.21875 62.890625 53.21875 53.421875 \r\nQ 53.21875 48.921875 51.53125 44.890625 \r\nQ 49.859375 40.875 45.40625 35.40625 \r\nQ 44.1875 33.984375 37.640625 27.21875 \r\nQ 31.109375 20.453125 19.1875 8.296875 \r\nz\r\n\" id=\"DejaVuSans-50\"/>\r\n      </defs>\r\n      <g transform=\"translate(90.21125 241.338906)scale(0.1 -0.1)\">\r\n       <use xlink:href=\"#DejaVuSans-50\"/>\r\n       <use x=\"63.623047\" xlink:href=\"#DejaVuSans-48\"/>\r\n      </g>\r\n     </g>\r\n    </g>\r\n    <g id=\"xtick_4\">\r\n     <g id=\"line2d_4\">\r\n      <g>\r\n       <use style=\"stroke:#000000;stroke-width:0.8;\" x=\"130.54875\" xlink:href=\"#m52d2f8fbea\" y=\"226.740469\"/>\r\n      </g>\r\n     </g>\r\n     <g id=\"text_4\">\r\n      <!-- 30 -->\r\n      <defs>\r\n       <path d=\"M 40.578125 39.3125 \r\nQ 47.65625 37.796875 51.625 33 \r\nQ 55.609375 28.21875 55.609375 21.1875 \r\nQ 55.609375 10.40625 48.1875 4.484375 \r\nQ 40.765625 -1.421875 27.09375 -1.421875 \r\nQ 22.515625 -1.421875 17.65625 -0.515625 \r\nQ 12.796875 0.390625 7.625 2.203125 \r\nL 7.625 11.71875 \r\nQ 11.71875 9.328125 16.59375 8.109375 \r\nQ 21.484375 6.890625 26.8125 6.890625 \r\nQ 36.078125 6.890625 40.9375 10.546875 \r\nQ 45.796875 14.203125 45.796875 21.1875 \r\nQ 45.796875 27.640625 41.28125 31.265625 \r\nQ 36.765625 34.90625 28.71875 34.90625 \r\nL 20.21875 34.90625 \r\nL 20.21875 43.015625 \r\nL 29.109375 43.015625 \r\nQ 36.375 43.015625 40.234375 45.921875 \r\nQ 44.09375 48.828125 44.09375 54.296875 \r\nQ 44.09375 59.90625 40.109375 62.90625 \r\nQ 36.140625 65.921875 28.71875 65.921875 \r\nQ 24.65625 65.921875 20.015625 65.03125 \r\nQ 15.375 64.15625 9.8125 62.3125 \r\nL 9.8125 71.09375 \r\nQ 15.4375 72.65625 20.34375 73.4375 \r\nQ 25.25 74.21875 29.59375 74.21875 \r\nQ 40.828125 74.21875 47.359375 69.109375 \r\nQ 53.90625 64.015625 53.90625 55.328125 \r\nQ 53.90625 49.265625 50.4375 45.09375 \r\nQ 46.96875 40.921875 40.578125 39.3125 \r\nz\r\n\" id=\"DejaVuSans-51\"/>\r\n      </defs>\r\n      <g transform=\"translate(124.18625 241.338906)scale(0.1 -0.1)\">\r\n       <use xlink:href=\"#DejaVuSans-51\"/>\r\n       <use x=\"63.623047\" xlink:href=\"#DejaVuSans-48\"/>\r\n      </g>\r\n     </g>\r\n    </g>\r\n    <g id=\"xtick_5\">\r\n     <g id=\"line2d_5\">\r\n      <g>\r\n       <use style=\"stroke:#000000;stroke-width:0.8;\" x=\"164.52375\" xlink:href=\"#m52d2f8fbea\" y=\"226.740469\"/>\r\n      </g>\r\n     </g>\r\n     <g id=\"text_5\">\r\n      <!-- 40 -->\r\n      <defs>\r\n       <path d=\"M 37.796875 64.3125 \r\nL 12.890625 25.390625 \r\nL 37.796875 25.390625 \r\nz\r\nM 35.203125 72.90625 \r\nL 47.609375 72.90625 \r\nL 47.609375 25.390625 \r\nL 58.015625 25.390625 \r\nL 58.015625 17.1875 \r\nL 47.609375 17.1875 \r\nL 47.609375 0 \r\nL 37.796875 0 \r\nL 37.796875 17.1875 \r\nL 4.890625 17.1875 \r\nL 4.890625 26.703125 \r\nz\r\n\" id=\"DejaVuSans-52\"/>\r\n      </defs>\r\n      <g transform=\"translate(158.16125 241.338906)scale(0.1 -0.1)\">\r\n       <use xlink:href=\"#DejaVuSans-52\"/>\r\n       <use x=\"63.623047\" xlink:href=\"#DejaVuSans-48\"/>\r\n      </g>\r\n     </g>\r\n    </g>\r\n    <g id=\"xtick_6\">\r\n     <g id=\"line2d_6\">\r\n      <g>\r\n       <use style=\"stroke:#000000;stroke-width:0.8;\" x=\"198.49875\" xlink:href=\"#m52d2f8fbea\" y=\"226.740469\"/>\r\n      </g>\r\n     </g>\r\n     <g id=\"text_6\">\r\n      <!-- 50 -->\r\n      <defs>\r\n       <path d=\"M 10.796875 72.90625 \r\nL 49.515625 72.90625 \r\nL 49.515625 64.59375 \r\nL 19.828125 64.59375 \r\nL 19.828125 46.734375 \r\nQ 21.96875 47.46875 24.109375 47.828125 \r\nQ 26.265625 48.1875 28.421875 48.1875 \r\nQ 40.625 48.1875 47.75 41.5 \r\nQ 54.890625 34.8125 54.890625 23.390625 \r\nQ 54.890625 11.625 47.5625 5.09375 \r\nQ 40.234375 -1.421875 26.90625 -1.421875 \r\nQ 22.3125 -1.421875 17.546875 -0.640625 \r\nQ 12.796875 0.140625 7.71875 1.703125 \r\nL 7.71875 11.625 \r\nQ 12.109375 9.234375 16.796875 8.0625 \r\nQ 21.484375 6.890625 26.703125 6.890625 \r\nQ 35.15625 6.890625 40.078125 11.328125 \r\nQ 45.015625 15.765625 45.015625 23.390625 \r\nQ 45.015625 31 40.078125 35.4375 \r\nQ 35.15625 39.890625 26.703125 39.890625 \r\nQ 22.75 39.890625 18.8125 39.015625 \r\nQ 14.890625 38.140625 10.796875 36.28125 \r\nz\r\n\" id=\"DejaVuSans-53\"/>\r\n      </defs>\r\n      <g transform=\"translate(192.13625 241.338906)scale(0.1 -0.1)\">\r\n       <use xlink:href=\"#DejaVuSans-53\"/>\r\n       <use x=\"63.623047\" xlink:href=\"#DejaVuSans-48\"/>\r\n      </g>\r\n     </g>\r\n    </g>\r\n    <g id=\"xtick_7\">\r\n     <g id=\"line2d_7\">\r\n      <g>\r\n       <use style=\"stroke:#000000;stroke-width:0.8;\" x=\"232.47375\" xlink:href=\"#m52d2f8fbea\" y=\"226.740469\"/>\r\n      </g>\r\n     </g>\r\n     <g id=\"text_7\">\r\n      <!-- 60 -->\r\n      <defs>\r\n       <path d=\"M 33.015625 40.375 \r\nQ 26.375 40.375 22.484375 35.828125 \r\nQ 18.609375 31.296875 18.609375 23.390625 \r\nQ 18.609375 15.53125 22.484375 10.953125 \r\nQ 26.375 6.390625 33.015625 6.390625 \r\nQ 39.65625 6.390625 43.53125 10.953125 \r\nQ 47.40625 15.53125 47.40625 23.390625 \r\nQ 47.40625 31.296875 43.53125 35.828125 \r\nQ 39.65625 40.375 33.015625 40.375 \r\nz\r\nM 52.59375 71.296875 \r\nL 52.59375 62.3125 \r\nQ 48.875 64.0625 45.09375 64.984375 \r\nQ 41.3125 65.921875 37.59375 65.921875 \r\nQ 27.828125 65.921875 22.671875 59.328125 \r\nQ 17.53125 52.734375 16.796875 39.40625 \r\nQ 19.671875 43.65625 24.015625 45.921875 \r\nQ 28.375 48.1875 33.59375 48.1875 \r\nQ 44.578125 48.1875 50.953125 41.515625 \r\nQ 57.328125 34.859375 57.328125 23.390625 \r\nQ 57.328125 12.15625 50.6875 5.359375 \r\nQ 44.046875 -1.421875 33.015625 -1.421875 \r\nQ 20.359375 -1.421875 13.671875 8.265625 \r\nQ 6.984375 17.96875 6.984375 36.375 \r\nQ 6.984375 53.65625 15.1875 63.9375 \r\nQ 23.390625 74.21875 37.203125 74.21875 \r\nQ 40.921875 74.21875 44.703125 73.484375 \r\nQ 48.484375 72.75 52.59375 71.296875 \r\nz\r\n\" id=\"DejaVuSans-54\"/>\r\n      </defs>\r\n      <g transform=\"translate(226.11125 241.338906)scale(0.1 -0.1)\">\r\n       <use xlink:href=\"#DejaVuSans-54\"/>\r\n       <use x=\"63.623047\" xlink:href=\"#DejaVuSans-48\"/>\r\n      </g>\r\n     </g>\r\n    </g>\r\n   </g>\r\n   <g id=\"matplotlib.axis_2\">\r\n    <g id=\"ytick_1\">\r\n     <g id=\"line2d_8\">\r\n      <defs>\r\n       <path d=\"M 0 0 \r\nL -3.5 0 \r\n\" id=\"ma034f42be3\" style=\"stroke:#000000;stroke-width:0.8;\"/>\r\n      </defs>\r\n      <g>\r\n       <use style=\"stroke:#000000;stroke-width:0.8;\" x=\"26.925\" xlink:href=\"#ma034f42be3\" y=\"10.999219\"/>\r\n      </g>\r\n     </g>\r\n     <g id=\"text_8\">\r\n      <!-- 0 -->\r\n      <g transform=\"translate(13.5625 14.798437)scale(0.1 -0.1)\">\r\n       <use xlink:href=\"#DejaVuSans-48\"/>\r\n      </g>\r\n     </g>\r\n    </g>\r\n    <g id=\"ytick_2\">\r\n     <g id=\"line2d_9\">\r\n      <g>\r\n       <use style=\"stroke:#000000;stroke-width:0.8;\" x=\"26.925\" xlink:href=\"#ma034f42be3\" y=\"44.974219\"/>\r\n      </g>\r\n     </g>\r\n     <g id=\"text_9\">\r\n      <!-- 10 -->\r\n      <g transform=\"translate(7.2 48.773437)scale(0.1 -0.1)\">\r\n       <use xlink:href=\"#DejaVuSans-49\"/>\r\n       <use x=\"63.623047\" xlink:href=\"#DejaVuSans-48\"/>\r\n      </g>\r\n     </g>\r\n    </g>\r\n    <g id=\"ytick_3\">\r\n     <g id=\"line2d_10\">\r\n      <g>\r\n       <use style=\"stroke:#000000;stroke-width:0.8;\" x=\"26.925\" xlink:href=\"#ma034f42be3\" y=\"78.949219\"/>\r\n      </g>\r\n     </g>\r\n     <g id=\"text_10\">\r\n      <!-- 20 -->\r\n      <g transform=\"translate(7.2 82.748437)scale(0.1 -0.1)\">\r\n       <use xlink:href=\"#DejaVuSans-50\"/>\r\n       <use x=\"63.623047\" xlink:href=\"#DejaVuSans-48\"/>\r\n      </g>\r\n     </g>\r\n    </g>\r\n    <g id=\"ytick_4\">\r\n     <g id=\"line2d_11\">\r\n      <g>\r\n       <use style=\"stroke:#000000;stroke-width:0.8;\" x=\"26.925\" xlink:href=\"#ma034f42be3\" y=\"112.924219\"/>\r\n      </g>\r\n     </g>\r\n     <g id=\"text_11\">\r\n      <!-- 30 -->\r\n      <g transform=\"translate(7.2 116.723437)scale(0.1 -0.1)\">\r\n       <use xlink:href=\"#DejaVuSans-51\"/>\r\n       <use x=\"63.623047\" xlink:href=\"#DejaVuSans-48\"/>\r\n      </g>\r\n     </g>\r\n    </g>\r\n    <g id=\"ytick_5\">\r\n     <g id=\"line2d_12\">\r\n      <g>\r\n       <use style=\"stroke:#000000;stroke-width:0.8;\" x=\"26.925\" xlink:href=\"#ma034f42be3\" y=\"146.899219\"/>\r\n      </g>\r\n     </g>\r\n     <g id=\"text_12\">\r\n      <!-- 40 -->\r\n      <g transform=\"translate(7.2 150.698437)scale(0.1 -0.1)\">\r\n       <use xlink:href=\"#DejaVuSans-52\"/>\r\n       <use x=\"63.623047\" xlink:href=\"#DejaVuSans-48\"/>\r\n      </g>\r\n     </g>\r\n    </g>\r\n    <g id=\"ytick_6\">\r\n     <g id=\"line2d_13\">\r\n      <g>\r\n       <use style=\"stroke:#000000;stroke-width:0.8;\" x=\"26.925\" xlink:href=\"#ma034f42be3\" y=\"180.874219\"/>\r\n      </g>\r\n     </g>\r\n     <g id=\"text_13\">\r\n      <!-- 50 -->\r\n      <g transform=\"translate(7.2 184.673437)scale(0.1 -0.1)\">\r\n       <use xlink:href=\"#DejaVuSans-53\"/>\r\n       <use x=\"63.623047\" xlink:href=\"#DejaVuSans-48\"/>\r\n      </g>\r\n     </g>\r\n    </g>\r\n    <g id=\"ytick_7\">\r\n     <g id=\"line2d_14\">\r\n      <g>\r\n       <use style=\"stroke:#000000;stroke-width:0.8;\" x=\"26.925\" xlink:href=\"#ma034f42be3\" y=\"214.849219\"/>\r\n      </g>\r\n     </g>\r\n     <g id=\"text_14\">\r\n      <!-- 60 -->\r\n      <g transform=\"translate(7.2 218.648437)scale(0.1 -0.1)\">\r\n       <use xlink:href=\"#DejaVuSans-54\"/>\r\n       <use x=\"63.623047\" xlink:href=\"#DejaVuSans-48\"/>\r\n      </g>\r\n     </g>\r\n    </g>\r\n   </g>\r\n   <g id=\"patch_3\">\r\n    <path d=\"M 26.925 226.740469 \r\nL 26.925 9.300469 \r\n\" style=\"fill:none;stroke:#000000;stroke-linecap:square;stroke-linejoin:miter;stroke-width:0.8;\"/>\r\n   </g>\r\n   <g id=\"patch_4\">\r\n    <path d=\"M 244.365 226.740469 \r\nL 244.365 9.300469 \r\n\" style=\"fill:none;stroke:#000000;stroke-linecap:square;stroke-linejoin:miter;stroke-width:0.8;\"/>\r\n   </g>\r\n   <g id=\"patch_5\">\r\n    <path d=\"M 26.925 226.740469 \r\nL 244.365 226.740469 \r\n\" style=\"fill:none;stroke:#000000;stroke-linecap:square;stroke-linejoin:miter;stroke-width:0.8;\"/>\r\n   </g>\r\n   <g id=\"patch_6\">\r\n    <path d=\"M 26.925 9.300469 \r\nL 244.365 9.300469 \r\n\" style=\"fill:none;stroke:#000000;stroke-linecap:square;stroke-linejoin:miter;stroke-width:0.8;\"/>\r\n   </g>\r\n  </g>\r\n </g>\r\n <defs>\r\n  <clipPath id=\"p4e3e702702\">\r\n   <rect height=\"217.44\" width=\"217.44\" x=\"26.925\" y=\"9.300469\"/>\r\n  </clipPath>\r\n </defs>\r\n</svg>\r\n",
      "image/png": "[encoded data removed]"
     },
     "metadata": {
      "needs_background": "light"
     }
    }
   ],
   "source": [
    "# Run this code:\n",
    "\n",
    "fig, ax = plt.subplots()\n",
    "ax.imshow(cats[:,0].reshape(64, 64).T, cmap=plt.cm.bone, interpolation='nearest') "
   ]
  },
  {
   "cell_type": "code",
   "execution_count": 7,
   "metadata": {},
   "outputs": [
    {
     "output_type": "execute_result",
     "data": {
      "text/plain": [
       "<matplotlib.image.AxesImage at 0x1c211dc4a90>"
      ]
     },
     "metadata": {},
     "execution_count": 7
    },
    {
     "output_type": "display_data",
     "data": {
      "text/plain": "<Figure size 432x288 with 1 Axes>",
      "image/svg+xml": "<?xml version=\"1.0\" encoding=\"utf-8\" standalone=\"no\"?>\r\n<!DOCTYPE svg PUBLIC \"-//W3C//DTD SVG 1.1//EN\"\r\n  \"http://www.w3.org/Graphics/SVG/1.1/DTD/svg11.dtd\">\r\n<!-- Created with matplotlib (https://matplotlib.org/) -->\r\n<svg height=\"250.618594pt\" version=\"1.1\" viewBox=\"0 0 251.565 250.618594\" width=\"251.565pt\" xmlns=\"http://www.w3.org/2000/svg\" xmlns:xlink=\"http://www.w3.org/1999/xlink\">\r\n <defs>\r\n  <style type=\"text/css\">\r\n*{stroke-linecap:butt;stroke-linejoin:round;}\r\n  </style>\r\n </defs>\r\n <g id=\"figure_1\">\r\n  <g id=\"patch_1\">\r\n   <path d=\"M 0 250.618594 \r\nL 251.565 250.618594 \r\nL 251.565 0 \r\nL 0 0 \r\nz\r\n\" style=\"fill:none;\"/>\r\n  </g>\r\n  <g id=\"axes_1\">\r\n   <g id=\"patch_2\">\r\n    <path d=\"M 26.925 226.740469 \r\nL 244.365 226.740469 \r\nL 244.365 9.300469 \r\nL 26.925 9.300469 \r\nz\r\n\" style=\"fill:#ffffff;\"/>\r\n   </g>\r\n   <g clip-path=\"url(#pe6621f5bac)\">\r\n    <image height=\"218\" id=\"image547ee3fee2\" transform=\"scale(1 -1)translate(0 -218)\" width=\"218\" x=\"26.925\" xlink:href=\"data:image/png;base64,\r\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\" y=\"-8.740469\"/>\r\n   </g>\r\n   <g id=\"matplotlib.axis_1\">\r\n    <g id=\"xtick_1\">\r\n     <g id=\"line2d_1\">\r\n      <defs>\r\n       <path d=\"M 0 0 \r\nL 0 3.5 \r\n\" id=\"ma5e6d9ef44\" style=\"stroke:#000000;stroke-width:0.8;\"/>\r\n      </defs>\r\n      <g>\r\n       <use style=\"stroke:#000000;stroke-width:0.8;\" x=\"28.62375\" xlink:href=\"#ma5e6d9ef44\" y=\"226.740469\"/>\r\n      </g>\r\n     </g>\r\n     <g id=\"text_1\">\r\n      <!-- 0 -->\r\n      <defs>\r\n       <path d=\"M 31.78125 66.40625 \r\nQ 24.171875 66.40625 20.328125 58.90625 \r\nQ 16.5 51.421875 16.5 36.375 \r\nQ 16.5 21.390625 20.328125 13.890625 \r\nQ 24.171875 6.390625 31.78125 6.390625 \r\nQ 39.453125 6.390625 43.28125 13.890625 \r\nQ 47.125 21.390625 47.125 36.375 \r\nQ 47.125 51.421875 43.28125 58.90625 \r\nQ 39.453125 66.40625 31.78125 66.40625 \r\nz\r\nM 31.78125 74.21875 \r\nQ 44.046875 74.21875 50.515625 64.515625 \r\nQ 56.984375 54.828125 56.984375 36.375 \r\nQ 56.984375 17.96875 50.515625 8.265625 \r\nQ 44.046875 -1.421875 31.78125 -1.421875 \r\nQ 19.53125 -1.421875 13.0625 8.265625 \r\nQ 6.59375 17.96875 6.59375 36.375 \r\nQ 6.59375 54.828125 13.0625 64.515625 \r\nQ 19.53125 74.21875 31.78125 74.21875 \r\nz\r\n\" id=\"DejaVuSans-48\"/>\r\n      </defs>\r\n      <g transform=\"translate(25.4425 241.338906)scale(0.1 -0.1)\">\r\n       <use xlink:href=\"#DejaVuSans-48\"/>\r\n      </g>\r\n     </g>\r\n    </g>\r\n    <g id=\"xtick_2\">\r\n     <g id=\"line2d_2\">\r\n      <g>\r\n       <use style=\"stroke:#000000;stroke-width:0.8;\" x=\"62.59875\" xlink:href=\"#ma5e6d9ef44\" y=\"226.740469\"/>\r\n      </g>\r\n     </g>\r\n     <g id=\"text_2\">\r\n      <!-- 10 -->\r\n      <defs>\r\n       <path d=\"M 12.40625 8.296875 \r\nL 28.515625 8.296875 \r\nL 28.515625 63.921875 \r\nL 10.984375 60.40625 \r\nL 10.984375 69.390625 \r\nL 28.421875 72.90625 \r\nL 38.28125 72.90625 \r\nL 38.28125 8.296875 \r\nL 54.390625 8.296875 \r\nL 54.390625 0 \r\nL 12.40625 0 \r\nz\r\n\" id=\"DejaVuSans-49\"/>\r\n      </defs>\r\n      <g transform=\"translate(56.23625 241.338906)scale(0.1 -0.1)\">\r\n       <use xlink:href=\"#DejaVuSans-49\"/>\r\n       <use x=\"63.623047\" xlink:href=\"#DejaVuSans-48\"/>\r\n      </g>\r\n     </g>\r\n    </g>\r\n    <g id=\"xtick_3\">\r\n     <g id=\"line2d_3\">\r\n      <g>\r\n       <use style=\"stroke:#000000;stroke-width:0.8;\" x=\"96.57375\" xlink:href=\"#ma5e6d9ef44\" y=\"226.740469\"/>\r\n      </g>\r\n     </g>\r\n     <g id=\"text_3\">\r\n      <!-- 20 -->\r\n      <defs>\r\n       <path d=\"M 19.1875 8.296875 \r\nL 53.609375 8.296875 \r\nL 53.609375 0 \r\nL 7.328125 0 \r\nL 7.328125 8.296875 \r\nQ 12.9375 14.109375 22.625 23.890625 \r\nQ 32.328125 33.6875 34.8125 36.53125 \r\nQ 39.546875 41.84375 41.421875 45.53125 \r\nQ 43.3125 49.21875 43.3125 52.78125 \r\nQ 43.3125 58.59375 39.234375 62.25 \r\nQ 35.15625 65.921875 28.609375 65.921875 \r\nQ 23.96875 65.921875 18.8125 64.3125 \r\nQ 13.671875 62.703125 7.8125 59.421875 \r\nL 7.8125 69.390625 \r\nQ 13.765625 71.78125 18.9375 73 \r\nQ 24.125 74.21875 28.421875 74.21875 \r\nQ 39.75 74.21875 46.484375 68.546875 \r\nQ 53.21875 62.890625 53.21875 53.421875 \r\nQ 53.21875 48.921875 51.53125 44.890625 \r\nQ 49.859375 40.875 45.40625 35.40625 \r\nQ 44.1875 33.984375 37.640625 27.21875 \r\nQ 31.109375 20.453125 19.1875 8.296875 \r\nz\r\n\" id=\"DejaVuSans-50\"/>\r\n      </defs>\r\n      <g transform=\"translate(90.21125 241.338906)scale(0.1 -0.1)\">\r\n       <use xlink:href=\"#DejaVuSans-50\"/>\r\n       <use x=\"63.623047\" xlink:href=\"#DejaVuSans-48\"/>\r\n      </g>\r\n     </g>\r\n    </g>\r\n    <g id=\"xtick_4\">\r\n     <g id=\"line2d_4\">\r\n      <g>\r\n       <use style=\"stroke:#000000;stroke-width:0.8;\" x=\"130.54875\" xlink:href=\"#ma5e6d9ef44\" y=\"226.740469\"/>\r\n      </g>\r\n     </g>\r\n     <g id=\"text_4\">\r\n      <!-- 30 -->\r\n      <defs>\r\n       <path d=\"M 40.578125 39.3125 \r\nQ 47.65625 37.796875 51.625 33 \r\nQ 55.609375 28.21875 55.609375 21.1875 \r\nQ 55.609375 10.40625 48.1875 4.484375 \r\nQ 40.765625 -1.421875 27.09375 -1.421875 \r\nQ 22.515625 -1.421875 17.65625 -0.515625 \r\nQ 12.796875 0.390625 7.625 2.203125 \r\nL 7.625 11.71875 \r\nQ 11.71875 9.328125 16.59375 8.109375 \r\nQ 21.484375 6.890625 26.8125 6.890625 \r\nQ 36.078125 6.890625 40.9375 10.546875 \r\nQ 45.796875 14.203125 45.796875 21.1875 \r\nQ 45.796875 27.640625 41.28125 31.265625 \r\nQ 36.765625 34.90625 28.71875 34.90625 \r\nL 20.21875 34.90625 \r\nL 20.21875 43.015625 \r\nL 29.109375 43.015625 \r\nQ 36.375 43.015625 40.234375 45.921875 \r\nQ 44.09375 48.828125 44.09375 54.296875 \r\nQ 44.09375 59.90625 40.109375 62.90625 \r\nQ 36.140625 65.921875 28.71875 65.921875 \r\nQ 24.65625 65.921875 20.015625 65.03125 \r\nQ 15.375 64.15625 9.8125 62.3125 \r\nL 9.8125 71.09375 \r\nQ 15.4375 72.65625 20.34375 73.4375 \r\nQ 25.25 74.21875 29.59375 74.21875 \r\nQ 40.828125 74.21875 47.359375 69.109375 \r\nQ 53.90625 64.015625 53.90625 55.328125 \r\nQ 53.90625 49.265625 50.4375 45.09375 \r\nQ 46.96875 40.921875 40.578125 39.3125 \r\nz\r\n\" id=\"DejaVuSans-51\"/>\r\n      </defs>\r\n      <g transform=\"translate(124.18625 241.338906)scale(0.1 -0.1)\">\r\n       <use xlink:href=\"#DejaVuSans-51\"/>\r\n       <use x=\"63.623047\" xlink:href=\"#DejaVuSans-48\"/>\r\n      </g>\r\n     </g>\r\n    </g>\r\n    <g id=\"xtick_5\">\r\n     <g id=\"line2d_5\">\r\n      <g>\r\n       <use style=\"stroke:#000000;stroke-width:0.8;\" x=\"164.52375\" xlink:href=\"#ma5e6d9ef44\" y=\"226.740469\"/>\r\n      </g>\r\n     </g>\r\n     <g id=\"text_5\">\r\n      <!-- 40 -->\r\n      <defs>\r\n       <path d=\"M 37.796875 64.3125 \r\nL 12.890625 25.390625 \r\nL 37.796875 25.390625 \r\nz\r\nM 35.203125 72.90625 \r\nL 47.609375 72.90625 \r\nL 47.609375 25.390625 \r\nL 58.015625 25.390625 \r\nL 58.015625 17.1875 \r\nL 47.609375 17.1875 \r\nL 47.609375 0 \r\nL 37.796875 0 \r\nL 37.796875 17.1875 \r\nL 4.890625 17.1875 \r\nL 4.890625 26.703125 \r\nz\r\n\" id=\"DejaVuSans-52\"/>\r\n      </defs>\r\n      <g transform=\"translate(158.16125 241.338906)scale(0.1 -0.1)\">\r\n       <use xlink:href=\"#DejaVuSans-52\"/>\r\n       <use x=\"63.623047\" xlink:href=\"#DejaVuSans-48\"/>\r\n      </g>\r\n     </g>\r\n    </g>\r\n    <g id=\"xtick_6\">\r\n     <g id=\"line2d_6\">\r\n      <g>\r\n       <use style=\"stroke:#000000;stroke-width:0.8;\" x=\"198.49875\" xlink:href=\"#ma5e6d9ef44\" y=\"226.740469\"/>\r\n      </g>\r\n     </g>\r\n     <g id=\"text_6\">\r\n      <!-- 50 -->\r\n      <defs>\r\n       <path d=\"M 10.796875 72.90625 \r\nL 49.515625 72.90625 \r\nL 49.515625 64.59375 \r\nL 19.828125 64.59375 \r\nL 19.828125 46.734375 \r\nQ 21.96875 47.46875 24.109375 47.828125 \r\nQ 26.265625 48.1875 28.421875 48.1875 \r\nQ 40.625 48.1875 47.75 41.5 \r\nQ 54.890625 34.8125 54.890625 23.390625 \r\nQ 54.890625 11.625 47.5625 5.09375 \r\nQ 40.234375 -1.421875 26.90625 -1.421875 \r\nQ 22.3125 -1.421875 17.546875 -0.640625 \r\nQ 12.796875 0.140625 7.71875 1.703125 \r\nL 7.71875 11.625 \r\nQ 12.109375 9.234375 16.796875 8.0625 \r\nQ 21.484375 6.890625 26.703125 6.890625 \r\nQ 35.15625 6.890625 40.078125 11.328125 \r\nQ 45.015625 15.765625 45.015625 23.390625 \r\nQ 45.015625 31 40.078125 35.4375 \r\nQ 35.15625 39.890625 26.703125 39.890625 \r\nQ 22.75 39.890625 18.8125 39.015625 \r\nQ 14.890625 38.140625 10.796875 36.28125 \r\nz\r\n\" id=\"DejaVuSans-53\"/>\r\n      </defs>\r\n      <g transform=\"translate(192.13625 241.338906)scale(0.1 -0.1)\">\r\n       <use xlink:href=\"#DejaVuSans-53\"/>\r\n       <use x=\"63.623047\" xlink:href=\"#DejaVuSans-48\"/>\r\n      </g>\r\n     </g>\r\n    </g>\r\n    <g id=\"xtick_7\">\r\n     <g id=\"line2d_7\">\r\n      <g>\r\n       <use style=\"stroke:#000000;stroke-width:0.8;\" x=\"232.47375\" xlink:href=\"#ma5e6d9ef44\" y=\"226.740469\"/>\r\n      </g>\r\n     </g>\r\n     <g id=\"text_7\">\r\n      <!-- 60 -->\r\n      <defs>\r\n       <path d=\"M 33.015625 40.375 \r\nQ 26.375 40.375 22.484375 35.828125 \r\nQ 18.609375 31.296875 18.609375 23.390625 \r\nQ 18.609375 15.53125 22.484375 10.953125 \r\nQ 26.375 6.390625 33.015625 6.390625 \r\nQ 39.65625 6.390625 43.53125 10.953125 \r\nQ 47.40625 15.53125 47.40625 23.390625 \r\nQ 47.40625 31.296875 43.53125 35.828125 \r\nQ 39.65625 40.375 33.015625 40.375 \r\nz\r\nM 52.59375 71.296875 \r\nL 52.59375 62.3125 \r\nQ 48.875 64.0625 45.09375 64.984375 \r\nQ 41.3125 65.921875 37.59375 65.921875 \r\nQ 27.828125 65.921875 22.671875 59.328125 \r\nQ 17.53125 52.734375 16.796875 39.40625 \r\nQ 19.671875 43.65625 24.015625 45.921875 \r\nQ 28.375 48.1875 33.59375 48.1875 \r\nQ 44.578125 48.1875 50.953125 41.515625 \r\nQ 57.328125 34.859375 57.328125 23.390625 \r\nQ 57.328125 12.15625 50.6875 5.359375 \r\nQ 44.046875 -1.421875 33.015625 -1.421875 \r\nQ 20.359375 -1.421875 13.671875 8.265625 \r\nQ 6.984375 17.96875 6.984375 36.375 \r\nQ 6.984375 53.65625 15.1875 63.9375 \r\nQ 23.390625 74.21875 37.203125 74.21875 \r\nQ 40.921875 74.21875 44.703125 73.484375 \r\nQ 48.484375 72.75 52.59375 71.296875 \r\nz\r\n\" id=\"DejaVuSans-54\"/>\r\n      </defs>\r\n      <g transform=\"translate(226.11125 241.338906)scale(0.1 -0.1)\">\r\n       <use xlink:href=\"#DejaVuSans-54\"/>\r\n       <use x=\"63.623047\" xlink:href=\"#DejaVuSans-48\"/>\r\n      </g>\r\n     </g>\r\n    </g>\r\n   </g>\r\n   <g id=\"matplotlib.axis_2\">\r\n    <g id=\"ytick_1\">\r\n     <g id=\"line2d_8\">\r\n      <defs>\r\n       <path d=\"M 0 0 \r\nL -3.5 0 \r\n\" id=\"m458736374a\" style=\"stroke:#000000;stroke-width:0.8;\"/>\r\n      </defs>\r\n      <g>\r\n       <use style=\"stroke:#000000;stroke-width:0.8;\" x=\"26.925\" xlink:href=\"#m458736374a\" y=\"10.999219\"/>\r\n      </g>\r\n     </g>\r\n     <g id=\"text_8\">\r\n      <!-- 0 -->\r\n      <g transform=\"translate(13.5625 14.798437)scale(0.1 -0.1)\">\r\n       <use xlink:href=\"#DejaVuSans-48\"/>\r\n      </g>\r\n     </g>\r\n    </g>\r\n    <g id=\"ytick_2\">\r\n     <g id=\"line2d_9\">\r\n      <g>\r\n       <use style=\"stroke:#000000;stroke-width:0.8;\" x=\"26.925\" xlink:href=\"#m458736374a\" y=\"44.974219\"/>\r\n      </g>\r\n     </g>\r\n     <g id=\"text_9\">\r\n      <!-- 10 -->\r\n      <g transform=\"translate(7.2 48.773437)scale(0.1 -0.1)\">\r\n       <use xlink:href=\"#DejaVuSans-49\"/>\r\n       <use x=\"63.623047\" xlink:href=\"#DejaVuSans-48\"/>\r\n      </g>\r\n     </g>\r\n    </g>\r\n    <g id=\"ytick_3\">\r\n     <g id=\"line2d_10\">\r\n      <g>\r\n       <use style=\"stroke:#000000;stroke-width:0.8;\" x=\"26.925\" xlink:href=\"#m458736374a\" y=\"78.949219\"/>\r\n      </g>\r\n     </g>\r\n     <g id=\"text_10\">\r\n      <!-- 20 -->\r\n      <g transform=\"translate(7.2 82.748437)scale(0.1 -0.1)\">\r\n       <use xlink:href=\"#DejaVuSans-50\"/>\r\n       <use x=\"63.623047\" xlink:href=\"#DejaVuSans-48\"/>\r\n      </g>\r\n     </g>\r\n    </g>\r\n    <g id=\"ytick_4\">\r\n     <g id=\"line2d_11\">\r\n      <g>\r\n       <use style=\"stroke:#000000;stroke-width:0.8;\" x=\"26.925\" xlink:href=\"#m458736374a\" y=\"112.924219\"/>\r\n      </g>\r\n     </g>\r\n     <g id=\"text_11\">\r\n      <!-- 30 -->\r\n      <g transform=\"translate(7.2 116.723437)scale(0.1 -0.1)\">\r\n       <use xlink:href=\"#DejaVuSans-51\"/>\r\n       <use x=\"63.623047\" xlink:href=\"#DejaVuSans-48\"/>\r\n      </g>\r\n     </g>\r\n    </g>\r\n    <g id=\"ytick_5\">\r\n     <g id=\"line2d_12\">\r\n      <g>\r\n       <use style=\"stroke:#000000;stroke-width:0.8;\" x=\"26.925\" xlink:href=\"#m458736374a\" y=\"146.899219\"/>\r\n      </g>\r\n     </g>\r\n     <g id=\"text_12\">\r\n      <!-- 40 -->\r\n      <g transform=\"translate(7.2 150.698437)scale(0.1 -0.1)\">\r\n       <use xlink:href=\"#DejaVuSans-52\"/>\r\n       <use x=\"63.623047\" xlink:href=\"#DejaVuSans-48\"/>\r\n      </g>\r\n     </g>\r\n    </g>\r\n    <g id=\"ytick_6\">\r\n     <g id=\"line2d_13\">\r\n      <g>\r\n       <use style=\"stroke:#000000;stroke-width:0.8;\" x=\"26.925\" xlink:href=\"#m458736374a\" y=\"180.874219\"/>\r\n      </g>\r\n     </g>\r\n     <g id=\"text_13\">\r\n      <!-- 50 -->\r\n      <g transform=\"translate(7.2 184.673437)scale(0.1 -0.1)\">\r\n       <use xlink:href=\"#DejaVuSans-53\"/>\r\n       <use x=\"63.623047\" xlink:href=\"#DejaVuSans-48\"/>\r\n      </g>\r\n     </g>\r\n    </g>\r\n    <g id=\"ytick_7\">\r\n     <g id=\"line2d_14\">\r\n      <g>\r\n       <use style=\"stroke:#000000;stroke-width:0.8;\" x=\"26.925\" xlink:href=\"#m458736374a\" y=\"214.849219\"/>\r\n      </g>\r\n     </g>\r\n     <g id=\"text_14\">\r\n      <!-- 60 -->\r\n      <g transform=\"translate(7.2 218.648437)scale(0.1 -0.1)\">\r\n       <use xlink:href=\"#DejaVuSans-54\"/>\r\n       <use x=\"63.623047\" xlink:href=\"#DejaVuSans-48\"/>\r\n      </g>\r\n     </g>\r\n    </g>\r\n   </g>\r\n   <g id=\"patch_3\">\r\n    <path d=\"M 26.925 226.740469 \r\nL 26.925 9.300469 \r\n\" style=\"fill:none;stroke:#000000;stroke-linecap:square;stroke-linejoin:miter;stroke-width:0.8;\"/>\r\n   </g>\r\n   <g id=\"patch_4\">\r\n    <path d=\"M 244.365 226.740469 \r\nL 244.365 9.300469 \r\n\" style=\"fill:none;stroke:#000000;stroke-linecap:square;stroke-linejoin:miter;stroke-width:0.8;\"/>\r\n   </g>\r\n   <g id=\"patch_5\">\r\n    <path d=\"M 26.925 226.740469 \r\nL 244.365 226.740469 \r\n\" style=\"fill:none;stroke:#000000;stroke-linecap:square;stroke-linejoin:miter;stroke-width:0.8;\"/>\r\n   </g>\r\n   <g id=\"patch_6\">\r\n    <path d=\"M 26.925 9.300469 \r\nL 244.365 9.300469 \r\n\" style=\"fill:none;stroke:#000000;stroke-linecap:square;stroke-linejoin:miter;stroke-width:0.8;\"/>\r\n   </g>\r\n  </g>\r\n </g>\r\n <defs>\r\n  <clipPath id=\"pe6621f5bac\">\r\n   <rect height=\"217.44\" width=\"217.44\" x=\"26.925\" y=\"9.300469\"/>\r\n  </clipPath>\r\n </defs>\r\n</svg>\r\n",
      "image/png": "[encoded data removed]"
     },
     "metadata": {
      "needs_background": "light"
     }
    }
   ],
   "source": [
    "# Run this code:\n",
    "\n",
    "fig, ax = plt.subplots()\n",
    "ax.imshow(dogs[:,0].reshape(64, 64).T, cmap=plt.cm.bone, interpolation='nearest') \n"
   ]
  },
  {
   "cell_type": "markdown",
   "metadata": {},
   "source": [
    "Next, we would like to create a standardization function. This function will find the mean and standard deviation of each image. We subtract the mean from each pixel and divide each pixel by the standard deviation. Write the function below.\n",
    "\n",
    "Hint: To find the mean and standard deviation of each image, use `numpy`'s version of mean and stadnard deviation and use `axis=0`."
   ]
  },
  {
   "cell_type": "code",
   "execution_count": 8,
   "metadata": {},
   "outputs": [],
   "source": [
    "def standardize(x):\n",
    "    #This function takes as input a numpy array and returns a stadardized numpy array of the same dimensions.\n",
    "    #Sample input: np.array([[1,2,3],[4,5,6]])\n",
    "    #Sample output: np.array([[-1,-1,-1],[1,1,1]])\n",
    "    \n",
    "    # Your code here:\n",
    "    x_mean = x-np.mean(x,axis=0)\n",
    "    x_std = np.std(x,axis=0)\n",
    "\n",
    "    std = x_mean / x_std\n",
    "\n",
    "    return std"
   ]
  },
  {
   "cell_type": "code",
   "execution_count": 9,
   "metadata": {},
   "outputs": [
    {
     "output_type": "execute_result",
     "data": {
      "text/plain": [
       "array([[-1., -1., -1.],\n",
       "       [ 1.,  1.,  1.]])"
      ]
     },
     "metadata": {},
     "execution_count": 9
    }
   ],
   "source": [
    "\n",
    "standardize([[0,1,2],[3,4,5]])\n"
   ]
  },
  {
   "cell_type": "markdown",
   "metadata": {},
   "source": [
    "Now, use the `np.concatenate` function to combine the cats and dogs arrays. Use `axis=1` to combine the two correctly. Make sure to put dogs first."
   ]
  },
  {
   "cell_type": "code",
   "execution_count": 10,
   "metadata": {},
   "outputs": [
    {
     "output_type": "execute_result",
     "data": {
      "text/plain": [
       "array([[224, 131, 127, ...,  60, 223, 101],\n",
       "       [224, 124, 136, ...,  50, 224, 107],\n",
       "       [224, 104, 127, ...,  63, 225, 106],\n",
       "       ...,\n",
       "       [100, 104, 115, ..., 105, 180, 114],\n",
       "       [100, 124, 104, ..., 118, 182,  91],\n",
       "       [100, 124, 104, ..., 104, 177, 113]], dtype=int64)"
      ]
     },
     "metadata": {},
     "execution_count": 10
    }
   ],
   "source": [
    "# Your code here:\n",
    "\n",
    "combined = np.concatenate((dogs,cats), axis = 1)\n",
    "combined\n"
   ]
  },
  {
   "cell_type": "markdown",
   "metadata": {},
   "source": [
    "Standardize the concatenated array below."
   ]
  },
  {
   "cell_type": "code",
   "execution_count": 12,
   "metadata": {},
   "outputs": [
    {
     "output_type": "execute_result",
     "data": {
      "text/plain": [
       "array([[ 2.37662907, -0.30753004,  0.93254857, ..., -1.80817356,\n",
       "         1.42293481, -0.20363951],\n",
       "       [ 2.37662907, -0.40500299,  1.15681724, ..., -2.06459792,\n",
       "         1.44036713, -0.05437635],\n",
       "       [ 2.37662907, -0.68349716,  0.93254857, ..., -1.73124626,\n",
       "         1.45779946, -0.07925354],\n",
       "       ...,\n",
       "       [ 0.22755315, -0.68349716,  0.63352369, ..., -0.65426398,\n",
       "         0.67334483,  0.11976401],\n",
       "       [ 0.22755315, -0.40500299,  0.35941754, ..., -0.32091232,\n",
       "         0.70820948, -0.45241144],\n",
       "       [ 0.22755315, -0.40500299,  0.35941754, ..., -0.67990641,\n",
       "         0.62104786,  0.09488681]])"
      ]
     },
     "metadata": {},
     "execution_count": 12
    }
   ],
   "source": [
    "# Your code here:\n",
    "\n",
    "standard = standardize(combined)\n",
    "standard\n"
   ]
  },
  {
   "cell_type": "markdown",
   "metadata": {},
   "source": [
    "# Challenge 2 - Using PCA\n",
    "\n",
    "Now that we have created a standardized matrix of cats and dogs, we'll find the two most important components in the data.\n",
    "\n",
    "Load the `PCA` function from `statsmodels` (read about this function [here](https://www.statsmodels.org/dev/generated/statsmodels.multivariate.pca.PCA.html)) and apply the function to our standarized data. Create a PCA model with two components."
   ]
  },
  {
   "cell_type": "code",
   "execution_count": 13,
   "metadata": {},
   "outputs": [],
   "source": [
    "from statsmodels.multivariate.pca import PCA\n"
   ]
  },
  {
   "cell_type": "code",
   "execution_count": 14,
   "metadata": {},
   "outputs": [
    {
     "output_type": "execute_result",
     "data": {
      "text/plain": [
       "Principal Component Analysis(nobs: 4096, nvar: 160, transformation: Standardize (Correlation), normalization: True, number of components: 2, SVD, id: 0x1c2127d59a0)"
      ]
     },
     "metadata": {},
     "execution_count": 14
    }
   ],
   "source": [
    "# Your code here:\n",
    "\n",
    "pca = PCA(standard, ncomp = 2)\n",
    "pca\n"
   ]
  },
  {
   "cell_type": "markdown",
   "metadata": {},
   "source": [
    "Use `numpy` to find to transpose the standardized pet array. This will help us compute the projection."
   ]
  },
  {
   "cell_type": "code",
   "execution_count": 15,
   "metadata": {},
   "outputs": [
    {
     "output_type": "execute_result",
     "data": {
      "text/plain": [
       "array([[ 2.37662907,  2.37662907,  2.37662907, ...,  0.22755315,\n",
       "         0.22755315,  0.22755315],\n",
       "       [-0.30753004, -0.40500299, -0.68349716, ..., -0.68349716,\n",
       "        -0.40500299, -0.40500299],\n",
       "       [ 0.93254857,  1.15681724,  0.93254857, ...,  0.63352369,\n",
       "         0.35941754,  0.35941754],\n",
       "       ...,\n",
       "       [-1.80817356, -2.06459792, -1.73124626, ..., -0.65426398,\n",
       "        -0.32091232, -0.67990641],\n",
       "       [ 1.42293481,  1.44036713,  1.45779946, ...,  0.67334483,\n",
       "         0.70820948,  0.62104786],\n",
       "       [-0.20363951, -0.05437635, -0.07925354, ...,  0.11976401,\n",
       "        -0.45241144,  0.09488681]])"
      ]
     },
     "metadata": {},
     "execution_count": 15
    }
   ],
   "source": [
    "# Your code here:\n",
    "\n",
    "transposed = np.transpose(standard)\n",
    "transposed\n"
   ]
  },
  {
   "cell_type": "markdown",
   "metadata": {},
   "source": [
    "Find the dot product of the transposed standardized pet matrix and the `factors` of the `PCA` model found above. This will be the projection onto 2 dimensions. This means that each cat and dog image will now only have two columns instead of 4096."
   ]
  },
  {
   "cell_type": "code",
   "execution_count": 17,
   "metadata": {},
   "outputs": [
    {
     "output_type": "execute_result",
     "data": {
      "text/plain": [
       "array([[-42.47761804,  14.71821433],\n",
       "       [-32.18870651, -19.2662963 ],\n",
       "       [ 12.96322652, -18.02197453],\n",
       "       [ -5.08306216, -32.95557124],\n",
       "       [-32.86623188,   4.11968744],\n",
       "       [  8.78857293, -45.18911556],\n",
       "       [-22.15300067, -13.23328497],\n",
       "       [-14.30959229, -39.06160918],\n",
       "       [-12.40852059, -38.71301053],\n",
       "       [-39.4764241 ,   2.20719028],\n",
       "       [ -0.35046665, -35.54740511],\n",
       "       [-21.77650066, -17.65748755],\n",
       "       [ -8.5096921 , -16.73090386],\n",
       "       [  3.05954753, -17.9826923 ],\n",
       "       [-19.18305111, -31.80632673],\n",
       "       [-17.58125885, -33.5972975 ],\n",
       "       [-16.02471892,  -8.3121984 ],\n",
       "       [-39.03886625, -21.24295061],\n",
       "       [-18.40609248, -28.7375926 ],\n",
       "       [-15.5699201 , -44.77293664],\n",
       "       [  3.62520175, -35.80142747],\n",
       "       [ -1.61533154, -38.347911  ],\n",
       "       [ -9.82059107, -15.2681486 ],\n",
       "       [-11.86784164, -40.88818108],\n",
       "       [-27.13786339, -30.69675336],\n",
       "       [ -0.22735455, -43.29906426],\n",
       "       [  3.71048443, -28.80944809],\n",
       "       [ -0.89249807, -22.90354209],\n",
       "       [-13.60771628, -47.36631028],\n",
       "       [ -9.70728816, -24.72057132],\n",
       "       [ -4.7909281 , -30.65608069],\n",
       "       [ -7.39104217, -27.00402038],\n",
       "       [-30.12429585, -29.25403952],\n",
       "       [-13.20286841, -35.49208925],\n",
       "       [  7.26399081, -38.20544099],\n",
       "       [-15.86070289, -14.8604834 ],\n",
       "       [ 14.20329986, -37.91625538],\n",
       "       [ -1.4072825 , -31.60202209],\n",
       "       [  6.57712234, -43.05144162],\n",
       "       [-28.6619948 , -19.04026736],\n",
       "       [-17.05064448, -40.12970253],\n",
       "       [-11.47725012,  16.68520462],\n",
       "       [ 10.07338245, -32.85932368],\n",
       "       [-15.18663388, -27.12325513],\n",
       "       [  8.06078337, -16.13287968],\n",
       "       [-20.23250461,  22.41075609],\n",
       "       [-26.57190701,   8.39746989],\n",
       "       [ -6.9585076 ,  -8.00496819],\n",
       "       [-15.25017626,  11.79988548],\n",
       "       [ 16.51519805, -34.45325576],\n",
       "       [-29.4785057 ,  11.0770776 ],\n",
       "       [-36.66240772,  26.75661096],\n",
       "       [ -6.1159088 ,  15.14224027],\n",
       "       [ 21.80417281, -40.23379395],\n",
       "       [ 21.58426173,  -4.97128478],\n",
       "       [ 14.00421682,  -3.7491233 ],\n",
       "       [-29.15009875,   6.22864411],\n",
       "       [-14.84114801,  12.18741032],\n",
       "       [ 16.64985118, -26.88390437],\n",
       "       [  2.07149086, -30.33384009],\n",
       "       [ -7.74221742, -39.11739108],\n",
       "       [-31.01784874,  21.47527049],\n",
       "       [-31.00859631,   5.51331908],\n",
       "       [ 22.94265569,   2.94354372],\n",
       "       [ 10.69271032,  -8.91738745],\n",
       "       [-27.32238788,  -0.11639355],\n",
       "       [ -5.07479957,  21.97111365],\n",
       "       [ 32.22521867, -11.42313402],\n",
       "       [  2.30123949,  -3.26423721],\n",
       "       [-22.66197385, -28.94288324],\n",
       "       [ 10.60817522, -11.76083298],\n",
       "       [  1.00745894, -31.92658204],\n",
       "       [-26.41891132, -25.32152792],\n",
       "       [ 21.07571773, -24.10696037],\n",
       "       [-10.27199041,  25.03302949],\n",
       "       [-39.86955911,   5.87497612],\n",
       "       [-33.23089194,  -8.66938934],\n",
       "       [  8.28175932, -34.63064771],\n",
       "       [  3.35185538, -33.18823673],\n",
       "       [-39.01239956,   2.67781662],\n",
       "       [ 15.65535387,  14.21896962],\n",
       "       [ 49.69180918,   1.02037256],\n",
       "       [-48.16605191,   3.7528642 ],\n",
       "       [-41.00710478,  -1.33593154],\n",
       "       [ 30.17992665,  17.50527999],\n",
       "       [ 20.86863603,  32.92673293],\n",
       "       [ 41.40505348,  -2.96678177],\n",
       "       [  5.21364832,  16.98706106],\n",
       "       [ 42.36328171,   7.61915106],\n",
       "       [ 21.04212661,  17.22317831],\n",
       "       [ -0.06504733,   4.65422311],\n",
       "       [ -5.76076325,   4.41333431],\n",
       "       [ 51.79926744,   9.90289121],\n",
       "       [ 30.32243658,  11.90543813],\n",
       "       [-28.89795759,  13.75861683],\n",
       "       [ 39.1612538 ,  16.44552986],\n",
       "       [-28.95400781,  10.90627483],\n",
       "       [ 33.24421981,  10.4768311 ],\n",
       "       [-42.8326886 ,  -0.79074765],\n",
       "       [ 50.59949364,   4.93943605],\n",
       "       [-10.98031318,  12.22131458],\n",
       "       [ 35.53242394,  -1.86619381],\n",
       "       [ 35.51807307, -13.04056466],\n",
       "       [ 34.03177436, -32.11339673],\n",
       "       [-51.60182946,   5.87830409],\n",
       "       [  7.0381312 , -21.65566454],\n",
       "       [ 34.95042527,  18.00924989],\n",
       "       [ 31.579875  , -18.19118326],\n",
       "       [-21.3963603 ,   2.50187031],\n",
       "       [ 20.89018069,  10.41386945],\n",
       "       [  2.45031565,  16.6703341 ],\n",
       "       [-12.37522742,  15.44005524],\n",
       "       [ 18.45372222,  29.5943449 ],\n",
       "       [-52.93563252,  11.18386097],\n",
       "       [ 51.11217708,  -2.09035815],\n",
       "       [  7.5957956 , -11.95933974],\n",
       "       [-50.48353366,  -1.91897934],\n",
       "       [ 42.99247816,   7.89967326],\n",
       "       [ 20.95311185, -20.3463869 ],\n",
       "       [ 15.53886117,  14.33033741],\n",
       "       [  7.32305673,  19.47135655],\n",
       "       [ 27.14081128,  18.14728285],\n",
       "       [ 54.45923938, -14.50936721],\n",
       "       [ 32.0123201 , -20.6028296 ],\n",
       "       [ 51.8362507 , -18.81617121],\n",
       "       [-33.45974497,  14.89453044],\n",
       "       [-34.07465094,  -4.51066318],\n",
       "       [-28.69953768,   9.9074628 ],\n",
       "       [ 50.72387267,  -4.89769163],\n",
       "       [ -1.19880326,   8.45762988],\n",
       "       [ 24.96539726,  15.11449624],\n",
       "       [ 15.91631133, -11.81330916],\n",
       "       [ 46.1526799 ,  15.58837953],\n",
       "       [ 36.02326638,  13.22930501],\n",
       "       [-18.57496751,  20.47991758],\n",
       "       [ 38.8977072 ,  17.92760755],\n",
       "       [ 36.33162147,  22.06666677],\n",
       "       [ 19.51124516,  -9.24727312],\n",
       "       [-32.96577355,  27.70327678],\n",
       "       [ 21.72990855, -34.16990332],\n",
       "       [  1.73705232,  -1.20377266],\n",
       "       [ 21.38639262,  14.19442546],\n",
       "       [ 39.50116822,  10.46720896],\n",
       "       [ 42.06328756, -10.9652322 ],\n",
       "       [-25.09819755,   2.3853781 ],\n",
       "       [  7.03603849,  18.47047983],\n",
       "       [-51.02431917,   7.68602495],\n",
       "       [  3.591052  ,  -0.40723947],\n",
       "       [-22.24744913,   6.54638268],\n",
       "       [-32.66740408,  -4.59164342],\n",
       "       [-15.71567132,   3.60468643],\n",
       "       [ 35.02622104, -11.9957155 ],\n",
       "       [ 10.98906028,  14.44502609],\n",
       "       [ -2.00560462,  -3.83356017],\n",
       "       [-11.08836325,  -0.66005686],\n",
       "       [ 26.889975  , -19.08646582],\n",
       "       [ 32.94241511, -23.68806731],\n",
       "       [ 45.69201296, -12.84691688],\n",
       "       [-17.07389355,  -3.83187358],\n",
       "       [  8.07906584,  12.94274622]])"
      ]
     },
     "metadata": {},
     "execution_count": 17
    }
   ],
   "source": [
    "# Your code here:\n",
    "\n",
    "product = np.dot(transposed, pca.factors)\n",
    "product\n"
   ]
  },
  {
   "cell_type": "markdown",
   "metadata": {},
   "source": [
    "# Challenge 3 - Plotting the Data\n",
    "\n",
    "Now that we have reduced our cats and dogs arrays, we can easily plot the data in a way that the human eye can understand. We can look at this plot to see whether there are differences between the cat and dog images. \n",
    "\n",
    "In the cell below, turn the two dimensional projection into a pandas dataframe and name the columns `pc1`, and `pc2` respectively."
   ]
  },
  {
   "cell_type": "code",
   "execution_count": 18,
   "metadata": {},
   "outputs": [
    {
     "output_type": "execute_result",
     "data": {
      "text/plain": [
       "           pc1        pc2\n",
       "0   -42.477618  14.718214\n",
       "1   -32.188707 -19.266296\n",
       "2    12.963227 -18.021975\n",
       "3    -5.083062 -32.955571\n",
       "4   -32.866232   4.119687\n",
       "..         ...        ...\n",
       "155  26.889975 -19.086466\n",
       "156  32.942415 -23.688067\n",
       "157  45.692013 -12.846917\n",
       "158 -17.073894  -3.831874\n",
       "159   8.079066  12.942746\n",
       "\n",
       "[160 rows x 2 columns]"
      ],
      "text/html": "<div>\n<style scoped>\n    .dataframe tbody tr th:only-of-type {\n        vertical-align: middle;\n    }\n\n    .dataframe tbody tr th {\n        vertical-align: top;\n    }\n\n    .dataframe thead th {\n        text-align: right;\n    }\n</style>\n<table border=\"1\" class=\"dataframe\">\n  <thead>\n    <tr style=\"text-align: right;\">\n      <th></th>\n      <th>pc1</th>\n      <th>pc2</th>\n    </tr>\n  </thead>\n  <tbody>\n    <tr>\n      <th>0</th>\n      <td>-42.477618</td>\n      <td>14.718214</td>\n    </tr>\n    <tr>\n      <th>1</th>\n      <td>-32.188707</td>\n      <td>-19.266296</td>\n    </tr>\n    <tr>\n      <th>2</th>\n      <td>12.963227</td>\n      <td>-18.021975</td>\n    </tr>\n    <tr>\n      <th>3</th>\n      <td>-5.083062</td>\n      <td>-32.955571</td>\n    </tr>\n    <tr>\n      <th>4</th>\n      <td>-32.866232</td>\n      <td>4.119687</td>\n    </tr>\n    <tr>\n      <th>...</th>\n      <td>...</td>\n      <td>...</td>\n    </tr>\n    <tr>\n      <th>155</th>\n      <td>26.889975</td>\n      <td>-19.086466</td>\n    </tr>\n    <tr>\n      <th>156</th>\n      <td>32.942415</td>\n      <td>-23.688067</td>\n    </tr>\n    <tr>\n      <th>157</th>\n      <td>45.692013</td>\n      <td>-12.846917</td>\n    </tr>\n    <tr>\n      <th>158</th>\n      <td>-17.073894</td>\n      <td>-3.831874</td>\n    </tr>\n    <tr>\n      <th>159</th>\n      <td>8.079066</td>\n      <td>12.942746</td>\n    </tr>\n  </tbody>\n</table>\n<p>160 rows × 2 columns</p>\n</div>"
     },
     "metadata": {},
     "execution_count": 18
    }
   ],
   "source": [
    "# Your code here:\n",
    "\n",
    "df = pd.DataFrame(product, columns=['pc1','pc2'])\n",
    "df\n"
   ]
  },
  {
   "cell_type": "markdown",
   "metadata": {},
   "source": [
    "Create a labels list. This list will be of size 160. The first 80 elements in the list will be the word `blue`, and the last 80 elements will be `red`. This will ensure that all dog observations will be colored in blue and all cats will be colored in red. Name this list `colors`."
   ]
  },
  {
   "cell_type": "code",
   "execution_count": 19,
   "metadata": {},
   "outputs": [
    {
     "output_type": "execute_result",
     "data": {
      "text/plain": [
       "['blue',\n",
       " 'blue',\n",
       " 'blue',\n",
       " 'blue',\n",
       " 'blue',\n",
       " 'blue',\n",
       " 'blue',\n",
       " 'blue',\n",
       " 'blue',\n",
       " 'blue',\n",
       " 'blue',\n",
       " 'blue',\n",
       " 'blue',\n",
       " 'blue',\n",
       " 'blue',\n",
       " 'blue',\n",
       " 'blue',\n",
       " 'blue',\n",
       " 'blue',\n",
       " 'blue',\n",
       " 'blue',\n",
       " 'blue',\n",
       " 'blue',\n",
       " 'blue',\n",
       " 'blue',\n",
       " 'blue',\n",
       " 'blue',\n",
       " 'blue',\n",
       " 'blue',\n",
       " 'blue',\n",
       " 'blue',\n",
       " 'blue',\n",
       " 'blue',\n",
       " 'blue',\n",
       " 'blue',\n",
       " 'blue',\n",
       " 'blue',\n",
       " 'blue',\n",
       " 'blue',\n",
       " 'blue',\n",
       " 'blue',\n",
       " 'blue',\n",
       " 'blue',\n",
       " 'blue',\n",
       " 'blue',\n",
       " 'blue',\n",
       " 'blue',\n",
       " 'blue',\n",
       " 'blue',\n",
       " 'blue',\n",
       " 'blue',\n",
       " 'blue',\n",
       " 'blue',\n",
       " 'blue',\n",
       " 'blue',\n",
       " 'blue',\n",
       " 'blue',\n",
       " 'blue',\n",
       " 'blue',\n",
       " 'blue',\n",
       " 'blue',\n",
       " 'blue',\n",
       " 'blue',\n",
       " 'blue',\n",
       " 'blue',\n",
       " 'blue',\n",
       " 'blue',\n",
       " 'blue',\n",
       " 'blue',\n",
       " 'blue',\n",
       " 'blue',\n",
       " 'blue',\n",
       " 'blue',\n",
       " 'blue',\n",
       " 'blue',\n",
       " 'blue',\n",
       " 'blue',\n",
       " 'blue',\n",
       " 'blue',\n",
       " 'blue',\n",
       " 'red',\n",
       " 'red',\n",
       " 'red',\n",
       " 'red',\n",
       " 'red',\n",
       " 'red',\n",
       " 'red',\n",
       " 'red',\n",
       " 'red',\n",
       " 'red',\n",
       " 'red',\n",
       " 'red',\n",
       " 'red',\n",
       " 'red',\n",
       " 'red',\n",
       " 'red',\n",
       " 'red',\n",
       " 'red',\n",
       " 'red',\n",
       " 'red',\n",
       " 'red',\n",
       " 'red',\n",
       " 'red',\n",
       " 'red',\n",
       " 'red',\n",
       " 'red',\n",
       " 'red',\n",
       " 'red',\n",
       " 'red',\n",
       " 'red',\n",
       " 'red',\n",
       " 'red',\n",
       " 'red',\n",
       " 'red',\n",
       " 'red',\n",
       " 'red',\n",
       " 'red',\n",
       " 'red',\n",
       " 'red',\n",
       " 'red',\n",
       " 'red',\n",
       " 'red',\n",
       " 'red',\n",
       " 'red',\n",
       " 'red',\n",
       " 'red',\n",
       " 'red',\n",
       " 'red',\n",
       " 'red',\n",
       " 'red',\n",
       " 'red',\n",
       " 'red',\n",
       " 'red',\n",
       " 'red',\n",
       " 'red',\n",
       " 'red',\n",
       " 'red',\n",
       " 'red',\n",
       " 'red',\n",
       " 'red',\n",
       " 'red',\n",
       " 'red',\n",
       " 'red',\n",
       " 'red',\n",
       " 'red',\n",
       " 'red',\n",
       " 'red',\n",
       " 'red',\n",
       " 'red',\n",
       " 'red',\n",
       " 'red',\n",
       " 'red',\n",
       " 'red',\n",
       " 'red',\n",
       " 'red',\n",
       " 'red',\n",
       " 'red',\n",
       " 'red',\n",
       " 'red',\n",
       " 'red']"
      ]
     },
     "metadata": {},
     "execution_count": 19
    }
   ],
   "source": [
    "# Your code here:\n",
    "\n",
    "labels = ['blue' for i in range(0,80)]+['red' for i in range(0,80)]\n",
    "labels\n"
   ]
  },
  {
   "cell_type": "markdown",
   "metadata": {},
   "source": [
    "Create a scatter plot of `pc1` and `pc2` below. Use the `colors` list above to color the observations by setting `c=colors`."
   ]
  },
  {
   "cell_type": "code",
   "execution_count": 20,
   "metadata": {},
   "outputs": [
    {
     "output_type": "display_data",
     "data": {
      "application/vnd.plotly.v1+json": {
       "config": {
        "plotlyServerURL": "https://plot.ly"
       },
       "data": [
        {
         "hovertemplate": "color=blue<br>pc1=%{x}<br>pc2=%{y}<extra></extra>",
         "legendgroup": "blue",
         "marker": {
          "color": "#636efa",
          "symbol": "circle"
         },
         "mode": "markers",
         "name": "blue",
         "orientation": "v",
         "showlegend": true,
         "type": "scatter",
         "x": [
          -42.47761803893301,
          -32.18870650792473,
          12.963226520411135,
          -5.0830621609316555,
          -32.86623188045381,
          8.788572934199184,
          -22.153000670897537,
          -14.30959228995664,
          -12.408520588292326,
          -39.47642410359004,
          -0.3504666493671712,
          -21.776500657233516,
          -8.509692100880573,
          3.059547528064409,
          -19.183051109834484,
          -17.581258850182262,
          -16.024718921897474,
          -39.03886625412896,
          -18.406092481819194,
          -15.569920096659722,
          3.6252017469909177,
          -1.6153315396108727,
          -9.820591065369838,
          -11.867841640725048,
          -27.13786339451271,
          -0.22735455078333078,
          3.710484434266583,
          -0.8924980711328143,
          -13.607716281400032,
          -9.707288164323677,
          -4.790928104904897,
          -7.391042169081521,
          -30.124295852198273,
          -13.202868407647362,
          7.263990814130249,
          -15.860702889126392,
          14.203299857285334,
          -1.4072825035164773,
          6.577122340395843,
          -28.661994795500622,
          -17.050644483912535,
          -11.477250121487371,
          10.07338244899558,
          -15.186633876599114,
          8.060783372396184,
          -20.23250460928088,
          -26.571907005403908,
          -6.9585076046812375,
          -15.250176257565276,
          16.515198054939347,
          -29.478505700983145,
          -36.662407724663666,
          -6.1159088035967475,
          21.80417280698179,
          21.584261730840716,
          14.004216820579433,
          -29.15009874512969,
          -14.841148007414638,
          16.649851178202567,
          2.0714908614599494,
          -7.7422174190544135,
          -31.017848736106973,
          -31.0085963053764,
          22.94265569329568,
          10.69271031974065,
          -27.322387880678605,
          -5.074799574648392,
          32.225218671475275,
          2.301239494004266,
          -22.6619738519865,
          10.608175215048302,
          1.007458935464953,
          -26.418911318859823,
          21.075717732207362,
          -10.271990408990025,
          -39.86955911377556,
          -33.2308919359461,
          8.281759316178288,
          3.351855378896249,
          -39.01239955958186
         ],
         "xaxis": "x",
         "y": [
          14.718214329211822,
          -19.26629629817416,
          -18.021974530295996,
          -32.9555712443731,
          4.11968744131857,
          -45.18911555936965,
          -13.233284972779181,
          -39.061609180909905,
          -38.71301053086834,
          2.2071902824981118,
          -35.54740511477763,
          -17.657487547443353,
          -16.730903856586973,
          -17.982692300930267,
          -31.806326726976767,
          -33.59729749986792,
          -8.312198404283972,
          -21.242950606730926,
          -28.737592599245673,
          -44.77293663971877,
          -35.80142746973522,
          -38.34791100123968,
          -15.268148595856687,
          -40.888181075824036,
          -30.69675336154068,
          -43.299064264270676,
          -28.809448093757894,
          -22.903542088295175,
          -47.36631028214517,
          -24.72057132002021,
          -30.656080692674134,
          -27.004020384277602,
          -29.254039517657926,
          -35.492089250991796,
          -38.205440985305884,
          -14.860483404282906,
          -37.916255375980555,
          -31.602022094173456,
          -43.05144162498195,
          -19.040267356452553,
          -40.12970253064848,
          16.685204623392597,
          -32.859323678399015,
          -27.123255127129255,
          -16.132879675229745,
          22.41075609239054,
          8.397469893958835,
          -8.004968186462852,
          11.79988547739629,
          -34.453255755781896,
          11.0770775968724,
          26.75661095647082,
          15.142240266934508,
          -40.23379394822518,
          -4.97128477773865,
          -3.749123300560024,
          6.228644112752729,
          12.187410318206236,
          -26.88390436512898,
          -30.33384008675266,
          -39.11739107715456,
          21.475270492831342,
          5.513319081709096,
          2.9435437207961326,
          -8.917387450424531,
          -0.1163935451568121,
          21.971113647205684,
          -11.423134015916025,
          -3.2642372070822985,
          -28.942883235729322,
          -11.760832984331456,
          -31.926582037463998,
          -25.321527916691934,
          -24.106960374558543,
          25.033029488270376,
          5.874976119989796,
          -8.669389343972542,
          -34.630647709064874,
          -33.18823672836194,
          2.6778166175952762
         ],
         "yaxis": "y"
        },
        {
         "hovertemplate": "color=red<br>pc1=%{x}<br>pc2=%{y}<extra></extra>",
         "legendgroup": "red",
         "marker": {
          "color": "#EF553B",
          "symbol": "circle"
         },
         "mode": "markers",
         "name": "red",
         "orientation": "v",
         "showlegend": true,
         "type": "scatter",
         "x": [
          15.655353872546053,
          49.691809175119985,
          -48.166051905741575,
          -41.007104783982896,
          30.17992664981144,
          20.868636033159284,
          41.40505347794176,
          5.21364831989468,
          42.36328171083427,
          21.042126605364768,
          -0.06504732889080568,
          -5.760763245641015,
          51.79926744427957,
          30.322436581617254,
          -28.897957587587726,
          39.161253804521046,
          -28.95400780856774,
          33.244219808407465,
          -42.83268860284734,
          50.59949363610058,
          -10.980313182231244,
          35.53242393739322,
          35.518073068505565,
          34.03177436176755,
          -51.60182945610272,
          7.038131202740505,
          34.95042527435166,
          31.579875003781115,
          -21.39636029932277,
          20.890180687396025,
          2.450315650996628,
          -12.375227421585024,
          18.453722220456307,
          -52.93563251552365,
          51.112177084544115,
          7.595795602119692,
          -50.48353365527427,
          42.99247815586334,
          20.953111853640063,
          15.538861172774613,
          7.323056729654503,
          27.140811284444954,
          54.45923938095286,
          32.01232010272785,
          51.83625069852293,
          -33.45974496789928,
          -34.07465093745257,
          -28.699537681615734,
          50.723872666944374,
          -1.1988032640587876,
          24.965397261999268,
          15.916311328946371,
          46.152679903783564,
          36.023266381246266,
          -18.57496751367695,
          38.89770719834481,
          36.331621472756225,
          19.511245159481955,
          -32.96577355140105,
          21.72990854531339,
          1.7370523206291624,
          21.38639261641603,
          39.50116822421295,
          42.06328756494643,
          -25.098197549750253,
          7.036038493633481,
          -51.024319165275124,
          3.591051999422096,
          -22.247449131949995,
          -32.66740407678273,
          -15.715671321569875,
          35.026221039988975,
          10.989060283489996,
          -2.0056046237243756,
          -11.088363251350358,
          26.889975000523176,
          32.94241510614513,
          45.69201295921999,
          -17.073893545968595,
          8.079065840080668
         ],
         "xaxis": "x",
         "y": [
          14.218969624043282,
          1.0203725584521448,
          3.7528642016814846,
          -1.3359315395451241,
          17.50527999377916,
          32.9267329284088,
          -2.9667817657713678,
          16.98706106111756,
          7.619151055819403,
          17.22317831268061,
          4.65422310616484,
          4.413334307353491,
          9.902891208958486,
          11.905438132821827,
          13.758616832263893,
          16.445529860004253,
          10.906274828427549,
          10.476831096573891,
          -0.7907476509903247,
          4.939436047455399,
          12.221314575146547,
          -1.8661938062832322,
          -13.04056465881853,
          -32.11339673113808,
          5.878304086079334,
          -21.655664542775597,
          18.009249894450086,
          -18.191183258762212,
          2.5018703125502624,
          10.413869445914814,
          16.67033409715132,
          15.440055236604321,
          29.594344903330292,
          11.1838609663905,
          -2.0903581455053106,
          -11.959339735274746,
          -1.9189793445791938,
          7.899673260352252,
          -20.34638690421389,
          14.33033740936577,
          19.471356551124735,
          18.147282854062354,
          -14.509367212035825,
          -20.60282959833695,
          -18.816171210985814,
          14.894530441922923,
          -4.510663176492272,
          9.90746279547929,
          -4.897691627365602,
          8.457629875677112,
          15.114496241687956,
          -11.813309156210106,
          15.588379533766522,
          13.22930501021927,
          20.479917575657073,
          17.927607551162573,
          22.066666768695914,
          -9.247273118489254,
          27.703276784573916,
          -34.16990331701802,
          -1.2037726602665102,
          14.19442546225322,
          10.467208963616471,
          -10.96523220189789,
          2.385378096941784,
          18.4704798309204,
          7.686024947579989,
          -0.4072394735794008,
          6.54638267875313,
          -4.591643424501453,
          3.604686428468125,
          -11.995715498966538,
          14.445026093215754,
          -3.8335601680825606,
          -0.6600568638195399,
          -19.08646582153159,
          -23.688067306953,
          -12.84691688305769,
          -3.8318735826241137,
          12.942746220751944
         ],
         "yaxis": "y"
        }
       ],
       "layout": {
        "legend": {
         "title": {
          "text": "color"
         },
         "tracegroupgap": 0
        },
        "margin": {
         "t": 60
        },
        "template": {
         "data": {
          "bar": [
           {
            "error_x": {
             "color": "#2a3f5f"
            },
            "error_y": {
             "color": "#2a3f5f"
            },
            "marker": {
             "line": {
              "color": "#E5ECF6",
              "width": 0.5
             }
            },
            "type": "bar"
           }
          ],
          "barpolar": [
           {
            "marker": {
             "line": {
              "color": "#E5ECF6",
              "width": 0.5
             }
            },
            "type": "barpolar"
           }
          ],
          "carpet": [
           {
            "aaxis": {
             "endlinecolor": "#2a3f5f",
             "gridcolor": "white",
             "linecolor": "white",
             "minorgridcolor": "white",
             "startlinecolor": "#2a3f5f"
            },
            "baxis": {
             "endlinecolor": "#2a3f5f",
             "gridcolor": "white",
             "linecolor": "white",
             "minorgridcolor": "white",
             "startlinecolor": "#2a3f5f"
            },
            "type": "carpet"
           }
          ],
          "choropleth": [
           {
            "colorbar": {
             "outlinewidth": 0,
             "ticks": ""
            },
            "type": "choropleth"
           }
          ],
          "contour": [
           {
            "colorbar": {
             "outlinewidth": 0,
             "ticks": ""
            },
            "colorscale": [
             [
              0,
              "#0d0887"
             ],
             [
              0.1111111111111111,
              "#46039f"
             ],
             [
              0.2222222222222222,
              "#7201a8"
             ],
             [
              0.3333333333333333,
              "#9c179e"
             ],
             [
              0.4444444444444444,
              "#bd3786"
             ],
             [
              0.5555555555555556,
              "#d8576b"
             ],
             [
              0.6666666666666666,
              "#ed7953"
             ],
             [
              0.7777777777777778,
              "#fb9f3a"
             ],
             [
              0.8888888888888888,
              "#fdca26"
             ],
             [
              1,
              "#f0f921"
             ]
            ],
            "type": "contour"
           }
          ],
          "contourcarpet": [
           {
            "colorbar": {
             "outlinewidth": 0,
             "ticks": ""
            },
            "type": "contourcarpet"
           }
          ],
          "heatmap": [
           {
            "colorbar": {
             "outlinewidth": 0,
             "ticks": ""
            },
            "colorscale": [
             [
              0,
              "#0d0887"
             ],
             [
              0.1111111111111111,
              "#46039f"
             ],
             [
              0.2222222222222222,
              "#7201a8"
             ],
             [
              0.3333333333333333,
              "#9c179e"
             ],
             [
              0.4444444444444444,
              "#bd3786"
             ],
             [
              0.5555555555555556,
              "#d8576b"
             ],
             [
              0.6666666666666666,
              "#ed7953"
             ],
             [
              0.7777777777777778,
              "#fb9f3a"
             ],
             [
              0.8888888888888888,
              "#fdca26"
             ],
             [
              1,
              "#f0f921"
             ]
            ],
            "type": "heatmap"
           }
          ],
          "heatmapgl": [
           {
            "colorbar": {
             "outlinewidth": 0,
             "ticks": ""
            },
            "colorscale": [
             [
              0,
              "#0d0887"
             ],
             [
              0.1111111111111111,
              "#46039f"
             ],
             [
              0.2222222222222222,
              "#7201a8"
             ],
             [
              0.3333333333333333,
              "#9c179e"
             ],
             [
              0.4444444444444444,
              "#bd3786"
             ],
             [
              0.5555555555555556,
              "#d8576b"
             ],
             [
              0.6666666666666666,
              "#ed7953"
             ],
             [
              0.7777777777777778,
              "#fb9f3a"
             ],
             [
              0.8888888888888888,
              "#fdca26"
             ],
             [
              1,
              "#f0f921"
             ]
            ],
            "type": "heatmapgl"
           }
          ],
          "histogram": [
           {
            "marker": {
             "colorbar": {
              "outlinewidth": 0,
              "ticks": ""
             }
            },
            "type": "histogram"
           }
          ],
          "histogram2d": [
           {
            "colorbar": {
             "outlinewidth": 0,
             "ticks": ""
            },
            "colorscale": [
             [
              0,
              "#0d0887"
             ],
             [
              0.1111111111111111,
              "#46039f"
             ],
             [
              0.2222222222222222,
              "#7201a8"
             ],
             [
              0.3333333333333333,
              "#9c179e"
             ],
             [
              0.4444444444444444,
              "#bd3786"
             ],
             [
              0.5555555555555556,
              "#d8576b"
             ],
             [
              0.6666666666666666,
              "#ed7953"
             ],
             [
              0.7777777777777778,
              "#fb9f3a"
             ],
             [
              0.8888888888888888,
              "#fdca26"
             ],
             [
              1,
              "#f0f921"
             ]
            ],
            "type": "histogram2d"
           }
          ],
          "histogram2dcontour": [
           {
            "colorbar": {
             "outlinewidth": 0,
             "ticks": ""
            },
            "colorscale": [
             [
              0,
              "#0d0887"
             ],
             [
              0.1111111111111111,
              "#46039f"
             ],
             [
              0.2222222222222222,
              "#7201a8"
             ],
             [
              0.3333333333333333,
              "#9c179e"
             ],
             [
              0.4444444444444444,
              "#bd3786"
             ],
             [
              0.5555555555555556,
              "#d8576b"
             ],
             [
              0.6666666666666666,
              "#ed7953"
             ],
             [
              0.7777777777777778,
              "#fb9f3a"
             ],
             [
              0.8888888888888888,
              "#fdca26"
             ],
             [
              1,
              "#f0f921"
             ]
            ],
            "type": "histogram2dcontour"
           }
          ],
          "mesh3d": [
           {
            "colorbar": {
             "outlinewidth": 0,
             "ticks": ""
            },
            "type": "mesh3d"
           }
          ],
          "parcoords": [
           {
            "line": {
             "colorbar": {
              "outlinewidth": 0,
              "ticks": ""
             }
            },
            "type": "parcoords"
           }
          ],
          "pie": [
           {
            "automargin": true,
            "type": "pie"
           }
          ],
          "scatter": [
           {
            "marker": {
             "colorbar": {
              "outlinewidth": 0,
              "ticks": ""
             }
            },
            "type": "scatter"
           }
          ],
          "scatter3d": [
           {
            "line": {
             "colorbar": {
              "outlinewidth": 0,
              "ticks": ""
             }
            },
            "marker": {
             "colorbar": {
              "outlinewidth": 0,
              "ticks": ""
             }
            },
            "type": "scatter3d"
           }
          ],
          "scattercarpet": [
           {
            "marker": {
             "colorbar": {
              "outlinewidth": 0,
              "ticks": ""
             }
            },
            "type": "scattercarpet"
           }
          ],
          "scattergeo": [
           {
            "marker": {
             "colorbar": {
              "outlinewidth": 0,
              "ticks": ""
             }
            },
            "type": "scattergeo"
           }
          ],
          "scattergl": [
           {
            "marker": {
             "colorbar": {
              "outlinewidth": 0,
              "ticks": ""
             }
            },
            "type": "scattergl"
           }
          ],
          "scattermapbox": [
           {
            "marker": {
             "colorbar": {
              "outlinewidth": 0,
              "ticks": ""
             }
            },
            "type": "scattermapbox"
           }
          ],
          "scatterpolar": [
           {
            "marker": {
             "colorbar": {
              "outlinewidth": 0,
              "ticks": ""
             }
            },
            "type": "scatterpolar"
           }
          ],
          "scatterpolargl": [
           {
            "marker": {
             "colorbar": {
              "outlinewidth": 0,
              "ticks": ""
             }
            },
            "type": "scatterpolargl"
           }
          ],
          "scatterternary": [
           {
            "marker": {
             "colorbar": {
              "outlinewidth": 0,
              "ticks": ""
             }
            },
            "type": "scatterternary"
           }
          ],
          "surface": [
           {
            "colorbar": {
             "outlinewidth": 0,
             "ticks": ""
            },
            "colorscale": [
             [
              0,
              "#0d0887"
             ],
             [
              0.1111111111111111,
              "#46039f"
             ],
             [
              0.2222222222222222,
              "#7201a8"
             ],
             [
              0.3333333333333333,
              "#9c179e"
             ],
             [
              0.4444444444444444,
              "#bd3786"
             ],
             [
              0.5555555555555556,
              "#d8576b"
             ],
             [
              0.6666666666666666,
              "#ed7953"
             ],
             [
              0.7777777777777778,
              "#fb9f3a"
             ],
             [
              0.8888888888888888,
              "#fdca26"
             ],
             [
              1,
              "#f0f921"
             ]
            ],
            "type": "surface"
           }
          ],
          "table": [
           {
            "cells": {
             "fill": {
              "color": "#EBF0F8"
             },
             "line": {
              "color": "white"
             }
            },
            "header": {
             "fill": {
              "color": "#C8D4E3"
             },
             "line": {
              "color": "white"
             }
            },
            "type": "table"
           }
          ]
         },
         "layout": {
          "annotationdefaults": {
           "arrowcolor": "#2a3f5f",
           "arrowhead": 0,
           "arrowwidth": 1
          },
          "coloraxis": {
           "colorbar": {
            "outlinewidth": 0,
            "ticks": ""
           }
          },
          "colorscale": {
           "diverging": [
            [
             0,
             "#8e0152"
            ],
            [
             0.1,
             "#c51b7d"
            ],
            [
             0.2,
             "#de77ae"
            ],
            [
             0.3,
             "#f1b6da"
            ],
            [
             0.4,
             "#fde0ef"
            ],
            [
             0.5,
             "#f7f7f7"
            ],
            [
             0.6,
             "#e6f5d0"
            ],
            [
             0.7,
             "#b8e186"
            ],
            [
             0.8,
             "#7fbc41"
            ],
            [
             0.9,
             "#4d9221"
            ],
            [
             1,
             "#276419"
            ]
           ],
           "sequential": [
            [
             0,
             "#0d0887"
            ],
            [
             0.1111111111111111,
             "#46039f"
            ],
            [
             0.2222222222222222,
             "#7201a8"
            ],
            [
             0.3333333333333333,
             "#9c179e"
            ],
            [
             0.4444444444444444,
             "#bd3786"
            ],
            [
             0.5555555555555556,
             "#d8576b"
            ],
            [
             0.6666666666666666,
             "#ed7953"
            ],
            [
             0.7777777777777778,
             "#fb9f3a"
            ],
            [
             0.8888888888888888,
             "#fdca26"
            ],
            [
             1,
             "#f0f921"
            ]
           ],
           "sequentialminus": [
            [
             0,
             "#0d0887"
            ],
            [
             0.1111111111111111,
             "#46039f"
            ],
            [
             0.2222222222222222,
             "#7201a8"
            ],
            [
             0.3333333333333333,
             "#9c179e"
            ],
            [
             0.4444444444444444,
             "#bd3786"
            ],
            [
             0.5555555555555556,
             "#d8576b"
            ],
            [
             0.6666666666666666,
             "#ed7953"
            ],
            [
             0.7777777777777778,
             "#fb9f3a"
            ],
            [
             0.8888888888888888,
             "#fdca26"
            ],
            [
             1,
             "#f0f921"
            ]
           ]
          },
          "colorway": [
           "#636efa",
           "#EF553B",
           "#00cc96",
           "#ab63fa",
           "#FFA15A",
           "#19d3f3",
           "#FF6692",
           "#B6E880",
           "#FF97FF",
           "#FECB52"
          ],
          "font": {
           "color": "#2a3f5f"
          },
          "geo": {
           "bgcolor": "white",
           "lakecolor": "white",
           "landcolor": "#E5ECF6",
           "showlakes": true,
           "showland": true,
           "subunitcolor": "white"
          },
          "hoverlabel": {
           "align": "left"
          },
          "hovermode": "closest",
          "mapbox": {
           "style": "light"
          },
          "paper_bgcolor": "white",
          "plot_bgcolor": "#E5ECF6",
          "polar": {
           "angularaxis": {
            "gridcolor": "white",
            "linecolor": "white",
            "ticks": ""
           },
           "bgcolor": "#E5ECF6",
           "radialaxis": {
            "gridcolor": "white",
            "linecolor": "white",
            "ticks": ""
           }
          },
          "scene": {
           "xaxis": {
            "backgroundcolor": "#E5ECF6",
            "gridcolor": "white",
            "gridwidth": 2,
            "linecolor": "white",
            "showbackground": true,
            "ticks": "",
            "zerolinecolor": "white"
           },
           "yaxis": {
            "backgroundcolor": "#E5ECF6",
            "gridcolor": "white",
            "gridwidth": 2,
            "linecolor": "white",
            "showbackground": true,
            "ticks": "",
            "zerolinecolor": "white"
           },
           "zaxis": {
            "backgroundcolor": "#E5ECF6",
            "gridcolor": "white",
            "gridwidth": 2,
            "linecolor": "white",
            "showbackground": true,
            "ticks": "",
            "zerolinecolor": "white"
           }
          },
          "shapedefaults": {
           "line": {
            "color": "#2a3f5f"
           }
          },
          "ternary": {
           "aaxis": {
            "gridcolor": "white",
            "linecolor": "white",
            "ticks": ""
           },
           "baxis": {
            "gridcolor": "white",
            "linecolor": "white",
            "ticks": ""
           },
           "bgcolor": "#E5ECF6",
           "caxis": {
            "gridcolor": "white",
            "linecolor": "white",
            "ticks": ""
           }
          },
          "title": {
           "x": 0.05
          },
          "xaxis": {
           "automargin": true,
           "gridcolor": "white",
           "linecolor": "white",
           "ticks": "",
           "title": {
            "standoff": 15
           },
           "zerolinecolor": "white",
           "zerolinewidth": 2
          },
          "yaxis": {
           "automargin": true,
           "gridcolor": "white",
           "linecolor": "white",
           "ticks": "",
           "title": {
            "standoff": 15
           },
           "zerolinecolor": "white",
           "zerolinewidth": 2
          }
         }
        },
        "xaxis": {
         "anchor": "y",
         "domain": [
          0,
          1
         ],
         "title": {
          "text": "pc1"
         }
        },
        "yaxis": {
         "anchor": "x",
         "domain": [
          0,
          1
         ],
         "title": {
          "text": "pc2"
         }
        }
       }
      }
     },
     "metadata": {}
    }
   ],
   "source": [
    "# Your code here:\n",
    "\n",
    "import plotly.express as px\n",
    "px.scatter(df, x = 'pc1', y = 'pc2', color = labels).show()\n"
   ]
  },
  {
   "cell_type": "markdown",
   "metadata": {},
   "source": [
    "Do you see a clear separation between cats and dogs? Write your answer below."
   ]
  },
  {
   "cell_type": "code",
   "execution_count": 18,
   "metadata": {},
   "outputs": [],
   "source": [
    "# Your conclusions here:\n",
    "\n",
    "'''\n",
    "It is not a stromg separation, but we can see that both groups are being agglomerated in different corners of the graph\n",
    "'''\n"
   ]
  },
  {
   "cell_type": "code",
   "execution_count": null,
   "metadata": {},
   "outputs": [],
   "source": []
  }
 ],
 "metadata": {
  "kernelspec": {
   "display_name": "Python 3",
   "language": "python",
   "name": "python3"
  },
  "language_info": {
   "codemirror_mode": {
    "name": "ipython",
    "version": 3
   },
   "file_extension": ".py",
   "mimetype": "text/x-python",
   "name": "python",
   "nbconvert_exporter": "python",
   "pygments_lexer": "ipython3",
   "version": "3.8.3-final"
  }
 },
 "nbformat": 4,
 "nbformat_minor": 2
}